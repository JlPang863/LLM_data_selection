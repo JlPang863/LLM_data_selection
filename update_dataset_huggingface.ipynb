{
 "cells": [
  {
   "cell_type": "code",
   "execution_count": null,
   "metadata": {},
   "outputs": [],
   "source": [
    "from datasets import load_dataset\n",
    "\n",
    "# 加载本地 JSON 文件为数据集（请将 \"path/to/your.json\" 替换为你实际的文件路径）\n",
    "dataset = load_dataset(\"json\", data_files=\"model_finetune/selected_data/meta-llama/Meta-Llama-3.1-8B-Instruct/all_train/full_dataset.json\", split=\"train\")\n",
    "\n",
    "# 推送数据集到 Hugging Face Hub（替换 your_username/your_dataset_name 为你的数据集仓库名称）\n",
    "dataset.push_to_hub(\"jlpang888/DS2_raw_300k\")\n"
   ]
  }
 ],
 "metadata": {
  "language_info": {
   "name": "python"
  }
 },
 "nbformat": 4,
 "nbformat_minor": 2
}
